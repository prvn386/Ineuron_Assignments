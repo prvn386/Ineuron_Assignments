{
 "cells": [
  {
   "cell_type": "code",
   "execution_count": 3,
   "metadata": {},
   "outputs": [],
   "source": [
    "\"\"\"1. Write a Python Program to Find the Factorial of a Number?\n",
    "\"\"\"\n",
    "def factorial(x):\n",
    "    fact = 1\n",
    "    for i in range(1,x+1):\n",
    "        fact = fact * i\n",
    "    print('The factorial of {} is {}'.format(x,fact))"
   ]
  },
  {
   "cell_type": "code",
   "execution_count": 4,
   "metadata": {},
   "outputs": [
    {
     "name": "stdout",
     "output_type": "stream",
     "text": [
      "The factorial of 5 is 120\n"
     ]
    }
   ],
   "source": [
    "factorial(5)"
   ]
  },
  {
   "cell_type": "code",
   "execution_count": 9,
   "metadata": {},
   "outputs": [
    {
     "name": "stdout",
     "output_type": "stream",
     "text": [
      "Enter the value: 2\n",
      "Enter second value: 12\n",
      "2 * 1 = 2\n",
      "2 * 2 = 4\n",
      "2 * 3 = 6\n",
      "2 * 4 = 8\n",
      "2 * 5 = 10\n",
      "2 * 6 = 12\n",
      "2 * 7 = 14\n",
      "2 * 8 = 16\n",
      "2 * 9 = 18\n",
      "2 * 10 = 20\n",
      "2 * 11 = 22\n",
      "2 * 12 = 24\n"
     ]
    }
   ],
   "source": [
    "\"\"\"2. Write a Python Program to Display the multiplication Table?\n",
    "\"\"\"\n",
    "\n",
    "x = int(input('Enter the multiplication table: '))\n",
    "y = int(input('Enter second value: '))\n",
    "for i in range(1,y+1):\n",
    "    value = x * i\n",
    "    print('{} * {} = {}'.format(x,i,value))"
   ]
  },
  {
   "cell_type": "code",
   "execution_count": 10,
   "metadata": {},
   "outputs": [
    {
     "name": "stdout",
     "output_type": "stream",
     "text": [
      "Enter the no of terms:6\n",
      "0\n",
      "1\n",
      "1\n",
      "2\n",
      "3\n",
      "5\n",
      "8\n"
     ]
    }
   ],
   "source": [
    "\"\"\"3. Write a Python Program to Print the Fibonacci sequence?\n",
    "\"\"\"\n",
    "n1,n2 = 0,1\n",
    "n = int(input('Enter the no of terms:'))\n",
    "count = 0\n",
    "while count <= n:\n",
    "    print(n1)\n",
    "    nth = n1 + n2\n",
    "    n1 = n2\n",
    "    n2 = nth\n",
    "    count = count + 1"
   ]
  },
  {
   "cell_type": "code",
   "execution_count": 76,
   "metadata": {},
   "outputs": [],
   "source": [
    "\"\"\"4. Write a Python Program to Check Armstrong Number?\n",
    "\"\"\"\n",
    "\n",
    "def armstrong(x):\n",
    "    count = 0\n",
    "    temp = x\n",
    "    while temp > 0: # first while loop to count the number of digits in the input\n",
    "        temp = temp // 10\n",
    "        count = count + 1\n",
    "    add  = 0\n",
    "    temp2 = x\n",
    "    while temp2 > 0 : # second while loop to find whether the calculate the sum of square or cube of digtis based on the count\n",
    "        num = temp2 % 10\n",
    "        add = add + num ** count\n",
    "        temp2 = temp2//10\n",
    "    if x == add: # condition to verify equality\n",
    "        print('It is a Armstrong number')\n",
    "    else:\n",
    "        print('It is not a Armstrong number')"
   ]
  },
  {
   "cell_type": "code",
   "execution_count": 77,
   "metadata": {},
   "outputs": [
    {
     "name": "stdout",
     "output_type": "stream",
     "text": [
      "It is a Armstrong number\n"
     ]
    }
   ],
   "source": [
    "armstrong(153)"
   ]
  },
  {
   "cell_type": "code",
   "execution_count": 78,
   "metadata": {},
   "outputs": [
    {
     "name": "stdout",
     "output_type": "stream",
     "text": [
      "It is a Armstrong number\n"
     ]
    }
   ],
   "source": [
    "armstrong(1634)"
   ]
  },
  {
   "cell_type": "code",
   "execution_count": 79,
   "metadata": {},
   "outputs": [
    {
     "name": "stdout",
     "output_type": "stream",
     "text": [
      "It is not a Armstrong number\n"
     ]
    }
   ],
   "source": [
    "armstrong(123)"
   ]
  },
  {
   "cell_type": "code",
   "execution_count": 80,
   "metadata": {},
   "outputs": [
    {
     "name": "stdout",
     "output_type": "stream",
     "text": [
      "It is not a Armstrong number\n"
     ]
    }
   ],
   "source": [
    "armstrong(222)"
   ]
  },
  {
   "cell_type": "code",
   "execution_count": 81,
   "metadata": {},
   "outputs": [
    {
     "name": "stdout",
     "output_type": "stream",
     "text": [
      "It is a Armstrong number\n"
     ]
    }
   ],
   "source": [
    "armstrong(8208)"
   ]
  },
  {
   "cell_type": "code",
   "execution_count": 85,
   "metadata": {},
   "outputs": [],
   "source": [
    "\"\"\"5. Write a Python Program to Find Armstrong Number in an Interval?\n",
    "\"\"\"\n",
    "def armstrong_check(x):  # function to check the armstrong number for given interval of numbers\n",
    "    count = 0\n",
    "    temp = x\n",
    "    while temp > 0: # first while loop to count the number of digits in the input\n",
    "        temp = temp // 10\n",
    "        count = count + 1\n",
    "    add  = 0\n",
    "    temp2 = x\n",
    "    while temp2 > 0 : # second while loop to find whether the calculate the sum of square or cube of digtis based on the count\n",
    "        num = temp2 % 10\n",
    "        add = add + num ** count\n",
    "        temp2 = temp2//10\n",
    "    if x == add:\n",
    "        return True\n",
    "    else:\n",
    "        return False"
   ]
  },
  {
   "cell_type": "code",
   "execution_count": 89,
   "metadata": {},
   "outputs": [
    {
     "data": {
      "text/plain": [
       "True"
      ]
     },
     "execution_count": 89,
     "metadata": {},
     "output_type": "execute_result"
    }
   ],
   "source": [
    "armstrong_check(407)"
   ]
  },
  {
   "cell_type": "code",
   "execution_count": 90,
   "metadata": {},
   "outputs": [
    {
     "name": "stdout",
     "output_type": "stream",
     "text": [
      "Armstong number for the given range are :[1, 2, 3, 4, 5, 6, 7, 8, 9, 153, 370, 371, 407]\n"
     ]
    }
   ],
   "source": [
    "\"\"\"5. Write a Python Program to Find Armstrong Number in an Interval?\n",
    "\"\"\"\n",
    "y = []\n",
    "for x in range(1,1000):\n",
    "    if armstrong_check(x) == True: # used a separate function to check whether it is armstrong or not\n",
    "        y.append(x)\n",
    "print('Armstong number for the given range are :{}'.format(y))"
   ]
  },
  {
   "cell_type": "code",
   "execution_count": 3,
   "metadata": {},
   "outputs": [
    {
     "name": "stdout",
     "output_type": "stream",
     "text": [
      "Enter the input number:10\n",
      "Sum of natural numbers : 55\n"
     ]
    }
   ],
   "source": [
    "\"\"\"6. Write a Python Program to Find the Sum of Natural Numbers?\n",
    "\"\"\"\n",
    "try:\n",
    "    n = int(input(\"Enter the input number:\"))\n",
    "    add = 0\n",
    "    while n > 0:\n",
    "        add = add + n\n",
    "        n = n -1\n",
    "    print('Sum of natural numbers :',add)\n",
    "except Exception as e:\n",
    "    print('Try entering a positve value or this might be your error',e)"
   ]
  },
  {
   "cell_type": "code",
   "execution_count": null,
   "metadata": {},
   "outputs": [],
   "source": []
  }
 ],
 "metadata": {
  "kernelspec": {
   "display_name": "Python 3",
   "language": "python",
   "name": "python3"
  },
  "language_info": {
   "codemirror_mode": {
    "name": "ipython",
    "version": 3
   },
   "file_extension": ".py",
   "mimetype": "text/x-python",
   "name": "python",
   "nbconvert_exporter": "python",
   "pygments_lexer": "ipython3",
   "version": "3.7.4"
  }
 },
 "nbformat": 4,
 "nbformat_minor": 2
}
