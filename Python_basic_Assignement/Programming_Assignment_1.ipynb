{
 "cells": [
  {
   "cell_type": "markdown",
   "metadata": {},
   "source": [
    "1. Write a Python program to print &quot;Hello Python&quot;?\n",
    "2. Write a Python program to do arithmetical operations addition and division.?\n",
    "3. Write a Python program to find the area of a triangle?\n",
    "4. Write a Python program to swap two variables?\n",
    "5. Write a Python program to generate a random number?"
   ]
  },
  {
   "cell_type": "code",
   "execution_count": 39,
   "metadata": {},
   "outputs": [
    {
     "name": "stdout",
     "output_type": "stream",
     "text": [
      "Hello Python\n"
     ]
    }
   ],
   "source": [
    "\"\"\" Q1 Write a Python program to print \"Hello Python\"?\n",
    "\"\"\"\n",
    "print(\"Hello Python\") # printing the text "
   ]
  },
  {
   "cell_type": "code",
   "execution_count": 6,
   "metadata": {},
   "outputs": [
    {
     "name": "stdout",
     "output_type": "stream",
     "text": [
      "Aditiion of x and y : 5\n",
      "Division of x and y : 0.67\n"
     ]
    }
   ],
   "source": [
    "\"\"\"  Q2 Write a Python program to do arithmetical operations addition and division.?\n",
    "\"\"\"\n",
    "x = 2 # variable 1\n",
    "y = 3 # variable 2\n",
    "print(\"Aditiion of x and y :\",x + y) # printing the addition result\n",
    "print(\"Division of x and y :\", round(x/y,2)) # printing the division result"
   ]
  },
  {
   "cell_type": "code",
   "execution_count": 36,
   "metadata": {},
   "outputs": [],
   "source": [
    "\"\"\" Q3  Write a Python program to find the area of a triangle?\n",
    "\"\"\"\n",
    "def area_of_traingle(b,h): # where b is breadth and h is height of traingle\n",
    "    print('Calculated area of traingle is {}'.format((b*h)/2))"
   ]
  },
  {
   "cell_type": "code",
   "execution_count": 37,
   "metadata": {},
   "outputs": [
    {
     "name": "stdout",
     "output_type": "stream",
     "text": [
      "Calculated area of traingle is 4.0\n"
     ]
    }
   ],
   "source": [
    "area_of_traingle(2,4)"
   ]
  },
  {
   "cell_type": "code",
   "execution_count": 42,
   "metadata": {},
   "outputs": [],
   "source": [
    "\"\"\" Q4  Write a Python program to swap two variables?\n",
    "\"\"\"\n",
    "def swap(a,b):\n",
    "    print('The value of a before swapping is {} and the value of b before swapping is {}'.format(a,b))\n",
    "    c = a # c is a temp variable\n",
    "    a = b\n",
    "    b = c\n",
    "    print('The value of a after swapping is {} and the value of b after swapping is {}'.format(a,b))"
   ]
  },
  {
   "cell_type": "code",
   "execution_count": 41,
   "metadata": {},
   "outputs": [
    {
     "name": "stdout",
     "output_type": "stream",
     "text": [
      "The value of a before swapping is 2 and the value of b before swapping is 4\n",
      "The value of a after swapping is 4 and the value of b after swapping is 2\n"
     ]
    }
   ],
   "source": [
    "swap(2,4) # swapping a = 2, b =4"
   ]
  },
  {
   "cell_type": "code",
   "execution_count": 40,
   "metadata": {},
   "outputs": [
    {
     "name": "stdout",
     "output_type": "stream",
     "text": [
      "0.14549722056446834\n"
     ]
    }
   ],
   "source": [
    "\"\"\" Q5 Write a Python program to generate a random number?\n",
    "\"\"\"\n",
    "\n",
    "import random # importing a rando module\n",
    "print(random.random()) # printing a one random value"
   ]
  },
  {
   "cell_type": "code",
   "execution_count": null,
   "metadata": {},
   "outputs": [],
   "source": []
  }
 ],
 "metadata": {
  "kernelspec": {
   "display_name": "Python 3",
   "language": "python",
   "name": "python3"
  },
  "language_info": {
   "codemirror_mode": {
    "name": "ipython",
    "version": 3
   },
   "file_extension": ".py",
   "mimetype": "text/x-python",
   "name": "python",
   "nbconvert_exporter": "python",
   "pygments_lexer": "ipython3",
   "version": "3.7.4"
  }
 },
 "nbformat": 4,
 "nbformat_minor": 2
}
